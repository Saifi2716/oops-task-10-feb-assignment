{
 "cells": [
  {
   "cell_type": "code",
   "execution_count": null,
   "id": "0bb2bd83-1cd4-4fe8-92c0-afb8eda984ec",
   "metadata": {},
   "outputs": [],
   "source": [
    "\"\"\"Q1. Which function is used to open a file? What are the different modes of opening a file? Explain each mode\n",
    "of file opening.\"\"\"\n",
    "#In Python, the open() function is used to open a file. The basic syntax for using this function is:\n",
    "file = open('filename', 'mode')\n",
    "\n",
    "\n",
    "#Opens the file for reading only.\n",
    "#If the file does not exist, it raises a FileNotFoundError.\n",
    "#This is the defaultfile = open('example.txt', 'w')\n",
    "file.write('Hello, World!')\n",
    "file.close()  # Closing the file to ensure data is saved and resources are released\n",
    " mode if you don't specify any mode.\"\"\"\n",
    "file = open('example.txt', 'w')\n",
    "#Q2. Why close() function is used? Why is it important to close a file?\n",
    "file = open('example.txt', 'w')\n",
    "file.write('Hello, World!')\n",
    "file.close()  # Closing the file to ensure data is saved and resources are released\n"
   ]
  },
  {
   "cell_type": "code",
   "execution_count": null,
   "id": "98034256-d8a7-4f1e-94ba-931a5de36832",
   "metadata": {},
   "outputs": [],
   "source": [
    "\"\"\"Q3. Write a python program to create a text file. Write ‘I want to become a Data Scientist’ in that file. Then\n",
    "close the file. Open this file and read the content of the file.\"\"\"\n",
    "# Step 1: Create a text file and write the specified content\n",
    "file = open('data_scientist.txt', 'w')  # Open the file in write mode\n",
    "file.write('I want to become a Data Scientist')  # Write the text\n",
    "file.close()  # Close the file\n",
    "\n",
    "# Step 2: Open the file again to read the content\n",
    "file = open('data_scientist.txt', 'r')  # Open the file in read mode\n",
    "content = file.read()  # Read the content of the file\n",
    "file.close()  # Close the file after reading\n",
    "\n"
   ]
  },
  {
   "cell_type": "code",
   "execution_count": null,
   "id": "4221f7a9-2752-4dd5-a383-9cc275cb5867",
   "metadata": {},
   "outputs": [],
   "source": [
    "#Q4. Explain the following with python code: read(), readline() and readlines().\n",
    "with open('example.txt', 'r') as file:\n",
    "    content = file.read()  # Read the entire file content\n",
    "    print(content)  # Print the content of the file\n"
   ]
  },
  {
   "cell_type": "code",
   "execution_count": null,
   "id": "641a0ba8-2f48-467b-a56f-122634468fbe",
   "metadata": {},
   "outputs": [],
   "source": [
    "#Q5. Explain the write() and writelines() functions. Give a suitable example.\n",
    "file.writelines(iterable)\n",
    "lines = ['Hello, World!\\n', 'This is Python.\\n', 'Writing multiple lines.\\n']\n",
    "with open('example.txt', 'w') as file:\n",
    "    file.writelines(lines)  # Writes all lines from the list to the file\n",
    "\n",
    "\n",
    "\n",
    "\n",
    "\n",
    "\n",
    "#Example of Both Functions Together:\n",
    "lines = ['First line\\n', 'Second line\\n', 'Third line\\n']\n",
    "\n",
    "# Using write()\n",
    "with open('example_write.txt', 'w') as file:\n",
    "    file.write('This is the first line written using write().\\n')\n",
    "\n",
    "# Using writelines()\n",
    "with open('example_writelines.txt', 'w') as file:\n",
    "    file.writelines(lines)\n",
    "\n",
    "print(\"Both files have been written.\")\n"
   ]
  }
 ],
 "metadata": {
  "kernelspec": {
   "display_name": "Python 3 (ipykernel)",
   "language": "python",
   "name": "python3"
  },
  "language_info": {
   "codemirror_mode": {
    "name": "ipython",
    "version": 3
   },
   "file_extension": ".py",
   "mimetype": "text/x-python",
   "name": "python",
   "nbconvert_exporter": "python",
   "pygments_lexer": "ipython3",
   "version": "3.12.4"
  }
 },
 "nbformat": 4,
 "nbformat_minor": 5
}
